{
 "cells": [
  {
   "cell_type": "code",
   "execution_count": 1,
   "id": "d887f1d0",
   "metadata": {},
   "outputs": [],
   "source": [
    "import pandas as pd\n",
    "from datetime import datetime"
   ]
  },
  {
   "cell_type": "markdown",
   "id": "9df9e933",
   "metadata": {},
   "source": [
    "# Convert decimal time entries to total milliseconds"
   ]
  },
  {
   "cell_type": "code",
   "execution_count": 2,
   "id": "3449f42a",
   "metadata": {},
   "outputs": [],
   "source": [
    "folder = 'cleaned_f1'\n",
    "# files to read from and their variables that need conversion\n",
    "files = {'cleaned_qualifying.csv': ['q1','q2','q3'], 'cleaned_results.csv': ['fastestLapTime'], 'cleaned_sprint_results.csv': ['fastestLapTime']}"
   ]
  },
  {
   "cell_type": "code",
   "execution_count": 11,
   "id": "cfba309f",
   "metadata": {},
   "outputs": [],
   "source": [
    "for file, vars in files.items():\n",
    "    df = pd.read_csv(folder + '/' + file)\n",
    "    for var in vars:\n",
    "        new = []\n",
    "        for item in df[var].to_list():\n",
    "            try:\n",
    "                x = datetime.strptime(item.split(',')[0],'%M:%S.%f')\n",
    "                ms = (x.minute * 60000) + (x.second * 1000) + (x.microsecond / 1000) \n",
    "                new.append(int(ms))\n",
    "            except ValueError:\n",
    "                new.append('\\\\N')\n",
    "            except AttributeError:\n",
    "                new.append('nan')\n",
    "        df[var] = new\n",
    "    df.to_csv(folder + '/' + file)"
   ]
  }
 ],
 "metadata": {
  "kernelspec": {
   "display_name": "Python 3 (ipykernel)",
   "language": "python",
   "name": "python3"
  },
  "language_info": {
   "codemirror_mode": {
    "name": "ipython",
    "version": 3
   },
   "file_extension": ".py",
   "mimetype": "text/x-python",
   "name": "python",
   "nbconvert_exporter": "python",
   "pygments_lexer": "ipython3",
   "version": "3.10.0"
  }
 },
 "nbformat": 4,
 "nbformat_minor": 5
}
